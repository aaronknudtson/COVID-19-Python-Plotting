{
 "cells": [
  {
   "cell_type": "code",
   "execution_count": 1,
   "metadata": {},
   "outputs": [],
   "source": [
    "import numpy as np\n",
    "import matplotlib.pyplot as plt\n",
    "import csv\n",
    "import datetime"
   ]
  },
  {
   "cell_type": "code",
   "execution_count": 2,
   "metadata": {},
   "outputs": [],
   "source": [
    "us = []\n",
    "with open('us.csv', newline='') as csvfile:\n",
    "    usreader = csv.reader(csvfile, delimiter=',', quotechar='|')\n",
    "    next(usreader, None)  \n",
    "    for row in usreader:\n",
    "        us.append(row)\n",
    "states = []\n",
    "with open('us-states.csv', newline='') as csvfile:\n",
    "    statesreader = csv.reader(csvfile, delimiter=',', quotechar='|')\n",
    "    next(statesreader, None)  \n",
    "    for row in statesreader:\n",
    "        states.append(row)\n",
    "counties = []\n",
    "with open('us-counties.csv', newline='') as csvfile:\n",
    "    countiesreader = csv.reader(csvfile, delimiter=',', quotechar='|')\n",
    "    next(countiesreader, None)  \n",
    "    for row in countiesreader:\n",
    "        counties.append(row)"
   ]
  },
  {
   "cell_type": "code",
   "execution_count": 3,
   "metadata": {},
   "outputs": [],
   "source": [
    "usdates = []\n",
    "uscases = []\n",
    "usdeaths = []\n",
    "for row in us:\n",
    "    usdates.append(row[0])\n",
    "    uscases.append(row[1])\n",
    "    usdeaths.append(row[2])\n",
    "statedict = {}\n",
    "count=0\n",
    "for row in states:\n",
    "    state = row[1]\n",
    "    date = datetime.datetime.strptime(row[0],'%Y-%m-%d')\n",
    "    cases = int(row[3])\n",
    "    deaths = int(row[4])\n",
    "    if statedict.get(state)==None:\n",
    "        statedict.update({state : {'dates':[date],'cases':[cases],'deaths':[deaths] } } )\n",
    "    else:\n",
    "        statedict.get(state).get('dates').append(date)     #Dates\n",
    "        statedict.get(state).get('cases').append(cases)    #cases\n",
    "        statedict.get(state).get('deaths').append(deaths)  #deaths\n",
    "countydict = {}\n",
    "for row in counties:\n",
    "    county = row[1]\n",
    "    state = row[2]\n",
    "    date = datetime.datetime.strptime(row[0],'%Y-%m-%d')\n",
    "    cases = int(row[4])\n",
    "    deaths = int(row[5])\n",
    "    if countydict.get(state)==None: #if state name is not in dictionary\n",
    "        countydict.update({state: {county: {'dates':[date],'cases':[cases],'deaths':[deaths]}}})\n",
    "    elif countydict.get(state).get(county)==None: #if county name is not in dictionary\n",
    "        countydict.get(state).update({county: {'dates':[date],'cases':[cases],'deaths':[deaths]}})\n",
    "    else:\n",
    "        countydict.get(state).get(county).get('dates').append(date)\n",
    "        countydict.get(state).get(county).get('cases').append(cases)\n",
    "        countydict.get(state).get(county).get('deaths').append(deaths)\n",
    "        \n",
    "        \n",
    "# statedict = {'State Name': {'Date':[datearray],'cases':[casearray],'deaths':[deatharray] } }\n",
    "    # statedict contains one nested dictionary for given statename\n",
    "# countydict = {'State Name': {'County Name': {'Date':[datearray],'cases':[casearray],'deaths':[deatharray] } }\n",
    "    # countydict contains one nested dictionary for given statename, then one nested dictionary for given countyname\n",
    "\n",
    "    \n",
    "    \n",
    "    \n",
    "    \n",
    "\n"
   ]
  },
  {
   "cell_type": "code",
   "execution_count": 28,
   "metadata": {
    "scrolled": false
   },
   "outputs": [
    {
     "name": "stderr",
     "output_type": "stream",
     "text": [
      "/anaconda3/lib/python3.6/site-packages/matplotlib/axes/_base.py:3443: UserWarning: Attempting to set identical bottom==top results\n",
      "in singular transformations; automatically expanding.\n",
      "bottom=1.0, top=1.0\n",
      "  'bottom=%s, top=%s') % (bottom, top))\n"
     ]
    },
    {
     "data": {
      "image/png": "[encoded data removed]",
      "text/plain": [
       "<Figure size 768.24x432 with 1 Axes>"
      ]
     },
     "metadata": {},
     "output_type": "display_data"
    }
   ],
   "source": [
    "#################################################EDIT HERE############################################################\n",
    "statename = 'North Dakota'\n",
    "countyname = ''             #If you want a specific county, enter inside the ''. If no county, leave as ''\n",
    "casesordeaths = 'cases'     #If you want to look at cases, 'cases'. If deaths, 'deaths'\n",
    "logscale = True            #If you want to look at a log Y scale and see if the curve is flattening, change to True\n",
    "lastXdays = 0               #If you want to see a certain from the present to the last X days, change. If not,\n",
    "                            #leave as 0.\n",
    "    \n",
    "#The plot that is generated will either be on a log scale (each tick is 10x more cases/deaths than the last tick)\n",
    "#or a regular scale. Each can tell you different things.\n",
    "\n",
    "#The different colors on the plot tells whether the cases are accelerating or decelerating. They essentially tell \n",
    "#whether the curve is flattening or not. \n",
    "\n",
    "#Green dot = decelerating (Curve is flattening)\n",
    "#Red dot = accelerating (Curve is not flattening)\n",
    "\n",
    "\n",
    "\n",
    "\n",
    "\n",
    "\n",
    "\n",
    "\n",
    "\n",
    "#########################DO NOT EDIT UNLESS YOU KNOW WHAT YOU'RE DOING#################################################\n",
    "plt.figure(figsize=(10.67,6))\n",
    "if countyname == '':\n",
    "    plt.title(statename+' COVID 19 '+casesordeaths)\n",
    "    dates = statedict.get(statename).get('dates')\n",
    "    CorD = statedict.get(statename).get(casesordeaths)\n",
    "    dotcasesordeaths = [ CorD[i+1]-CorD[i] for i in np.arange(len(CorD)-1)]\n",
    "    ddotcasesordeaths = [ dotcasesordeaths[i+1]-dotcasesordeaths[i] for i in np.arange(len(dotcasesordeaths)-1)]\n",
    "else:\n",
    "    plt.title(statename+' '+countyname+' County COVID 19 '+casesordeaths)\n",
    "    dates = countydict.get(statename).get(countyname).get('dates')\n",
    "    CorD = countydict.get(statename).get(countyname).get(casesordeaths)\n",
    "    dotcasesordeaths = [ CorD[i+1]-CorD[i] for i in np.arange(len(CorD)-1)]\n",
    "    ddotcasesordeaths = [ dotcasesordeaths[i+1]-dotcasesordeaths[i] for i in np.arange(len(dotcasesordeaths)-1)]\n",
    "\n",
    "if lastXdays>0:\n",
    "    thirtyindex = len(ddotcasesordeaths)-lastXdays\n",
    "else:\n",
    "    thirtyindex = 0\n",
    "    \n",
    "for i in np.arange(len(ddotcasesordeaths)-thirtyindex):\n",
    "    if ddotcasesordeaths[i+thirtyindex]>0:\n",
    "        col = 'salmon'\n",
    "    else:\n",
    "        col = 'lime'\n",
    "    if logscale:\n",
    "        plt.semilogy(dates[i+2+thirtyindex],CorD[i+2+thirtyindex],'o',color=col,label='_nolegend_' if i!=0 else statename+' '+countyname);\n",
    "    else:\n",
    "        plt.plot(dates[i+2+thirtyindex],CorD[i+2+thirtyindex],'o',color=col,label='_nolegend_' if i!=0 else statename+' '+countyname);\n",
    "plt.xlabel('Date')\n",
    "if casesordeaths =='cases':\n",
    "    ylabelname = 'cases'\n",
    "elif casesordeaths== 'deaths':\n",
    "    ylabelname = 'deaths'\n",
    "plt.ylabel(ylabelname)\n",
    "plt.xticks(rotation=30);\n",
    "plt.grid()\n",
    "plt.legend();\n",
    "plt.savefig('NDCOVID.png',dpi=300)"
   ]
  },
  {
   "cell_type": "code",
   "execution_count": null,
   "metadata": {},
   "outputs": [],
   "source": []
  }
 ],
 "metadata": {
  "kernelspec": {
   "display_name": "Python 3",
   "language": "python",
   "name": "python3"
  },
  "language_info": {
   "codemirror_mode": {
    "name": "ipython",
    "version": 3
   },
   "file_extension": ".py",
   "mimetype": "text/x-python",
   "name": "python",
   "nbconvert_exporter": "python",
   "pygments_lexer": "ipython3",
   "version": "3.6.5"
  }
 },
 "nbformat": 4,
 "nbformat_minor": 2
}
